{
 "cells": [
  {
   "cell_type": "code",
   "execution_count": 2,
   "id": "b1ede241",
   "metadata": {},
   "outputs": [],
   "source": [
    "import pandas as pd\n",
    "import numpy as np\n",
    "import seaborn as sns\n",
    "import matplotlib.pyplot as plt\n",
    "from sklearn.preprocessing import MinMaxScaler\n",
    "from sklearn.preprocessing import StandardScaler\n",
    "%matplotlib inline"
   ]
  },
  {
   "cell_type": "code",
   "execution_count": 3,
   "id": "beb00d57",
   "metadata": {},
   "outputs": [],
   "source": [
    "od=pd.read_csv(\"train-data.csv\")\n",
    "td=pd.read_csv(\"test-data.csv\")"
   ]
  },
  {
   "cell_type": "code",
   "execution_count": 4,
   "id": "e47cfe75",
   "metadata": {},
   "outputs": [
    {
     "name": "stdout",
     "output_type": "stream",
     "text": [
      "(6019, 14)\n",
      " \n",
      "(1234, 13)\n"
     ]
    }
   ],
   "source": [
    "print(od.shape)\n",
    "print(' ')\n",
    "print(td.shape)"
   ]
  },
  {
   "cell_type": "code",
   "execution_count": 5,
   "id": "be57c143",
   "metadata": {},
   "outputs": [
    {
     "data": {
      "text/html": [
       "<div>\n",
       "<style scoped>\n",
       "    .dataframe tbody tr th:only-of-type {\n",
       "        vertical-align: middle;\n",
       "    }\n",
       "\n",
       "    .dataframe tbody tr th {\n",
       "        vertical-align: top;\n",
       "    }\n",
       "\n",
       "    .dataframe thead th {\n",
       "        text-align: right;\n",
       "    }\n",
       "</style>\n",
       "<table border=\"1\" class=\"dataframe\">\n",
       "  <thead>\n",
       "    <tr style=\"text-align: right;\">\n",
       "      <th></th>\n",
       "      <th>Unnamed: 0</th>\n",
       "      <th>Name</th>\n",
       "      <th>Location</th>\n",
       "      <th>Year</th>\n",
       "      <th>Kilometers_Driven</th>\n",
       "      <th>Fuel_Type</th>\n",
       "      <th>Transmission</th>\n",
       "      <th>Owner_Type</th>\n",
       "      <th>Mileage</th>\n",
       "      <th>Engine</th>\n",
       "      <th>Power</th>\n",
       "      <th>Seats</th>\n",
       "      <th>New_Price</th>\n",
       "      <th>Price</th>\n",
       "    </tr>\n",
       "  </thead>\n",
       "  <tbody>\n",
       "    <tr>\n",
       "      <th>0</th>\n",
       "      <td>0</td>\n",
       "      <td>Maruti Wagon R LXI CNG</td>\n",
       "      <td>Mumbai</td>\n",
       "      <td>2010</td>\n",
       "      <td>72000</td>\n",
       "      <td>CNG</td>\n",
       "      <td>Manual</td>\n",
       "      <td>First</td>\n",
       "      <td>26.6 km/kg</td>\n",
       "      <td>998 CC</td>\n",
       "      <td>58.16 bhp</td>\n",
       "      <td>5.0</td>\n",
       "      <td>NaN</td>\n",
       "      <td>1.75</td>\n",
       "    </tr>\n",
       "    <tr>\n",
       "      <th>1</th>\n",
       "      <td>1</td>\n",
       "      <td>Hyundai Creta 1.6 CRDi SX Option</td>\n",
       "      <td>Pune</td>\n",
       "      <td>2015</td>\n",
       "      <td>41000</td>\n",
       "      <td>Diesel</td>\n",
       "      <td>Manual</td>\n",
       "      <td>First</td>\n",
       "      <td>19.67 kmpl</td>\n",
       "      <td>1582 CC</td>\n",
       "      <td>126.2 bhp</td>\n",
       "      <td>5.0</td>\n",
       "      <td>NaN</td>\n",
       "      <td>12.50</td>\n",
       "    </tr>\n",
       "    <tr>\n",
       "      <th>2</th>\n",
       "      <td>2</td>\n",
       "      <td>Honda Jazz V</td>\n",
       "      <td>Chennai</td>\n",
       "      <td>2011</td>\n",
       "      <td>46000</td>\n",
       "      <td>Petrol</td>\n",
       "      <td>Manual</td>\n",
       "      <td>First</td>\n",
       "      <td>18.2 kmpl</td>\n",
       "      <td>1199 CC</td>\n",
       "      <td>88.7 bhp</td>\n",
       "      <td>5.0</td>\n",
       "      <td>8.61 Lakh</td>\n",
       "      <td>4.50</td>\n",
       "    </tr>\n",
       "    <tr>\n",
       "      <th>3</th>\n",
       "      <td>3</td>\n",
       "      <td>Maruti Ertiga VDI</td>\n",
       "      <td>Chennai</td>\n",
       "      <td>2012</td>\n",
       "      <td>87000</td>\n",
       "      <td>Diesel</td>\n",
       "      <td>Manual</td>\n",
       "      <td>First</td>\n",
       "      <td>20.77 kmpl</td>\n",
       "      <td>1248 CC</td>\n",
       "      <td>88.76 bhp</td>\n",
       "      <td>7.0</td>\n",
       "      <td>NaN</td>\n",
       "      <td>6.00</td>\n",
       "    </tr>\n",
       "    <tr>\n",
       "      <th>4</th>\n",
       "      <td>4</td>\n",
       "      <td>Audi A4 New 2.0 TDI Multitronic</td>\n",
       "      <td>Coimbatore</td>\n",
       "      <td>2013</td>\n",
       "      <td>40670</td>\n",
       "      <td>Diesel</td>\n",
       "      <td>Automatic</td>\n",
       "      <td>Second</td>\n",
       "      <td>15.2 kmpl</td>\n",
       "      <td>1968 CC</td>\n",
       "      <td>140.8 bhp</td>\n",
       "      <td>5.0</td>\n",
       "      <td>NaN</td>\n",
       "      <td>17.74</td>\n",
       "    </tr>\n",
       "  </tbody>\n",
       "</table>\n",
       "</div>"
      ],
      "text/plain": [
       "   Unnamed: 0                              Name    Location  Year  \\\n",
       "0           0            Maruti Wagon R LXI CNG      Mumbai  2010   \n",
       "1           1  Hyundai Creta 1.6 CRDi SX Option        Pune  2015   \n",
       "2           2                      Honda Jazz V     Chennai  2011   \n",
       "3           3                 Maruti Ertiga VDI     Chennai  2012   \n",
       "4           4   Audi A4 New 2.0 TDI Multitronic  Coimbatore  2013   \n",
       "\n",
       "   Kilometers_Driven Fuel_Type Transmission Owner_Type     Mileage   Engine  \\\n",
       "0              72000       CNG       Manual      First  26.6 km/kg   998 CC   \n",
       "1              41000    Diesel       Manual      First  19.67 kmpl  1582 CC   \n",
       "2              46000    Petrol       Manual      First   18.2 kmpl  1199 CC   \n",
       "3              87000    Diesel       Manual      First  20.77 kmpl  1248 CC   \n",
       "4              40670    Diesel    Automatic     Second   15.2 kmpl  1968 CC   \n",
       "\n",
       "       Power  Seats  New_Price  Price  \n",
       "0  58.16 bhp    5.0        NaN   1.75  \n",
       "1  126.2 bhp    5.0        NaN  12.50  \n",
       "2   88.7 bhp    5.0  8.61 Lakh   4.50  \n",
       "3  88.76 bhp    7.0        NaN   6.00  \n",
       "4  140.8 bhp    5.0        NaN  17.74  "
      ]
     },
     "execution_count": 5,
     "metadata": {},
     "output_type": "execute_result"
    }
   ],
   "source": [
    "od.head()"
   ]
  },
  {
   "cell_type": "code",
   "execution_count": 6,
   "id": "3aa3c59e",
   "metadata": {},
   "outputs": [
    {
     "data": {
      "text/html": [
       "<div>\n",
       "<style scoped>\n",
       "    .dataframe tbody tr th:only-of-type {\n",
       "        vertical-align: middle;\n",
       "    }\n",
       "\n",
       "    .dataframe tbody tr th {\n",
       "        vertical-align: top;\n",
       "    }\n",
       "\n",
       "    .dataframe thead th {\n",
       "        text-align: right;\n",
       "    }\n",
       "</style>\n",
       "<table border=\"1\" class=\"dataframe\">\n",
       "  <thead>\n",
       "    <tr style=\"text-align: right;\">\n",
       "      <th></th>\n",
       "      <th>count</th>\n",
       "      <th>mean</th>\n",
       "      <th>std</th>\n",
       "      <th>min</th>\n",
       "      <th>25%</th>\n",
       "      <th>50%</th>\n",
       "      <th>75%</th>\n",
       "      <th>max</th>\n",
       "    </tr>\n",
       "  </thead>\n",
       "  <tbody>\n",
       "    <tr>\n",
       "      <th>Unnamed: 0</th>\n",
       "      <td>6019.0</td>\n",
       "      <td>3009.000000</td>\n",
       "      <td>1737.679967</td>\n",
       "      <td>0.00</td>\n",
       "      <td>1504.5</td>\n",
       "      <td>3009.00</td>\n",
       "      <td>4513.50</td>\n",
       "      <td>6018.0</td>\n",
       "    </tr>\n",
       "    <tr>\n",
       "      <th>Year</th>\n",
       "      <td>6019.0</td>\n",
       "      <td>2013.358199</td>\n",
       "      <td>3.269742</td>\n",
       "      <td>1998.00</td>\n",
       "      <td>2011.0</td>\n",
       "      <td>2014.00</td>\n",
       "      <td>2016.00</td>\n",
       "      <td>2019.0</td>\n",
       "    </tr>\n",
       "    <tr>\n",
       "      <th>Kilometers_Driven</th>\n",
       "      <td>6019.0</td>\n",
       "      <td>58738.380296</td>\n",
       "      <td>91268.843206</td>\n",
       "      <td>171.00</td>\n",
       "      <td>34000.0</td>\n",
       "      <td>53000.00</td>\n",
       "      <td>73000.00</td>\n",
       "      <td>6500000.0</td>\n",
       "    </tr>\n",
       "    <tr>\n",
       "      <th>Seats</th>\n",
       "      <td>5977.0</td>\n",
       "      <td>5.278735</td>\n",
       "      <td>0.808840</td>\n",
       "      <td>0.00</td>\n",
       "      <td>5.0</td>\n",
       "      <td>5.00</td>\n",
       "      <td>5.00</td>\n",
       "      <td>10.0</td>\n",
       "    </tr>\n",
       "    <tr>\n",
       "      <th>Price</th>\n",
       "      <td>6019.0</td>\n",
       "      <td>9.479468</td>\n",
       "      <td>11.187917</td>\n",
       "      <td>0.44</td>\n",
       "      <td>3.5</td>\n",
       "      <td>5.64</td>\n",
       "      <td>9.95</td>\n",
       "      <td>160.0</td>\n",
       "    </tr>\n",
       "  </tbody>\n",
       "</table>\n",
       "</div>"
      ],
      "text/plain": [
       "                    count          mean           std      min      25%  \\\n",
       "Unnamed: 0         6019.0   3009.000000   1737.679967     0.00   1504.5   \n",
       "Year               6019.0   2013.358199      3.269742  1998.00   2011.0   \n",
       "Kilometers_Driven  6019.0  58738.380296  91268.843206   171.00  34000.0   \n",
       "Seats              5977.0      5.278735      0.808840     0.00      5.0   \n",
       "Price              6019.0      9.479468     11.187917     0.44      3.5   \n",
       "\n",
       "                        50%       75%        max  \n",
       "Unnamed: 0          3009.00   4513.50     6018.0  \n",
       "Year                2014.00   2016.00     2019.0  \n",
       "Kilometers_Driven  53000.00  73000.00  6500000.0  \n",
       "Seats                  5.00      5.00       10.0  \n",
       "Price                  5.64      9.95      160.0  "
      ]
     },
     "execution_count": 6,
     "metadata": {},
     "output_type": "execute_result"
    }
   ],
   "source": [
    "od.describe().transpose()"
   ]
  },
  {
   "cell_type": "code",
   "execution_count": 7,
   "id": "2561dbdc",
   "metadata": {},
   "outputs": [
    {
     "name": "stdout",
     "output_type": "stream",
     "text": [
      "<class 'pandas.core.frame.DataFrame'>\n",
      "RangeIndex: 6019 entries, 0 to 6018\n",
      "Data columns (total 14 columns):\n",
      " #   Column             Non-Null Count  Dtype  \n",
      "---  ------             --------------  -----  \n",
      " 0   Unnamed: 0         6019 non-null   int64  \n",
      " 1   Name               6019 non-null   object \n",
      " 2   Location           6019 non-null   object \n",
      " 3   Year               6019 non-null   int64  \n",
      " 4   Kilometers_Driven  6019 non-null   int64  \n",
      " 5   Fuel_Type          6019 non-null   object \n",
      " 6   Transmission       6019 non-null   object \n",
      " 7   Owner_Type         6019 non-null   object \n",
      " 8   Mileage            6017 non-null   object \n",
      " 9   Engine             5983 non-null   object \n",
      " 10  Power              5983 non-null   object \n",
      " 11  Seats              5977 non-null   float64\n",
      " 12  New_Price          824 non-null    object \n",
      " 13  Price              6019 non-null   float64\n",
      "dtypes: float64(2), int64(3), object(9)\n",
      "memory usage: 658.5+ KB\n"
     ]
    }
   ],
   "source": [
    "od.info()"
   ]
  },
  {
   "cell_type": "code",
   "execution_count": 8,
   "id": "f4c12cd4",
   "metadata": {},
   "outputs": [],
   "source": [
    "od_mod=od.copy()"
   ]
  },
  {
   "cell_type": "code",
   "execution_count": 9,
   "id": "82540c95",
   "metadata": {},
   "outputs": [
    {
     "data": {
      "text/html": [
       "<div>\n",
       "<style scoped>\n",
       "    .dataframe tbody tr th:only-of-type {\n",
       "        vertical-align: middle;\n",
       "    }\n",
       "\n",
       "    .dataframe tbody tr th {\n",
       "        vertical-align: top;\n",
       "    }\n",
       "\n",
       "    .dataframe thead th {\n",
       "        text-align: right;\n",
       "    }\n",
       "</style>\n",
       "<table border=\"1\" class=\"dataframe\">\n",
       "  <thead>\n",
       "    <tr style=\"text-align: right;\">\n",
       "      <th></th>\n",
       "      <th>Unnamed: 0</th>\n",
       "      <th>Name</th>\n",
       "      <th>Location</th>\n",
       "      <th>Year</th>\n",
       "      <th>Kilometers_Driven</th>\n",
       "      <th>Fuel_Type</th>\n",
       "      <th>Transmission</th>\n",
       "      <th>Owner_Type</th>\n",
       "      <th>Mileage</th>\n",
       "      <th>Engine</th>\n",
       "      <th>Power</th>\n",
       "      <th>Seats</th>\n",
       "      <th>New_Price</th>\n",
       "      <th>Price</th>\n",
       "    </tr>\n",
       "  </thead>\n",
       "  <tbody>\n",
       "    <tr>\n",
       "      <th>0</th>\n",
       "      <td>0</td>\n",
       "      <td>Maruti Wagon R LXI CNG</td>\n",
       "      <td>Mumbai</td>\n",
       "      <td>2010</td>\n",
       "      <td>72000</td>\n",
       "      <td>CNG</td>\n",
       "      <td>Manual</td>\n",
       "      <td>First</td>\n",
       "      <td>26.6 km/kg</td>\n",
       "      <td>998 CC</td>\n",
       "      <td>58.16 bhp</td>\n",
       "      <td>5.0</td>\n",
       "      <td>NaN</td>\n",
       "      <td>1.75</td>\n",
       "    </tr>\n",
       "    <tr>\n",
       "      <th>1</th>\n",
       "      <td>1</td>\n",
       "      <td>Hyundai Creta 1.6 CRDi SX Option</td>\n",
       "      <td>Pune</td>\n",
       "      <td>2015</td>\n",
       "      <td>41000</td>\n",
       "      <td>Diesel</td>\n",
       "      <td>Manual</td>\n",
       "      <td>First</td>\n",
       "      <td>19.67 kmpl</td>\n",
       "      <td>1582 CC</td>\n",
       "      <td>126.2 bhp</td>\n",
       "      <td>5.0</td>\n",
       "      <td>NaN</td>\n",
       "      <td>12.50</td>\n",
       "    </tr>\n",
       "    <tr>\n",
       "      <th>2</th>\n",
       "      <td>2</td>\n",
       "      <td>Honda Jazz V</td>\n",
       "      <td>Chennai</td>\n",
       "      <td>2011</td>\n",
       "      <td>46000</td>\n",
       "      <td>Petrol</td>\n",
       "      <td>Manual</td>\n",
       "      <td>First</td>\n",
       "      <td>18.2 kmpl</td>\n",
       "      <td>1199 CC</td>\n",
       "      <td>88.7 bhp</td>\n",
       "      <td>5.0</td>\n",
       "      <td>8.61 Lakh</td>\n",
       "      <td>4.50</td>\n",
       "    </tr>\n",
       "    <tr>\n",
       "      <th>3</th>\n",
       "      <td>3</td>\n",
       "      <td>Maruti Ertiga VDI</td>\n",
       "      <td>Chennai</td>\n",
       "      <td>2012</td>\n",
       "      <td>87000</td>\n",
       "      <td>Diesel</td>\n",
       "      <td>Manual</td>\n",
       "      <td>First</td>\n",
       "      <td>20.77 kmpl</td>\n",
       "      <td>1248 CC</td>\n",
       "      <td>88.76 bhp</td>\n",
       "      <td>7.0</td>\n",
       "      <td>NaN</td>\n",
       "      <td>6.00</td>\n",
       "    </tr>\n",
       "    <tr>\n",
       "      <th>4</th>\n",
       "      <td>4</td>\n",
       "      <td>Audi A4 New 2.0 TDI Multitronic</td>\n",
       "      <td>Coimbatore</td>\n",
       "      <td>2013</td>\n",
       "      <td>40670</td>\n",
       "      <td>Diesel</td>\n",
       "      <td>Automatic</td>\n",
       "      <td>Second</td>\n",
       "      <td>15.2 kmpl</td>\n",
       "      <td>1968 CC</td>\n",
       "      <td>140.8 bhp</td>\n",
       "      <td>5.0</td>\n",
       "      <td>NaN</td>\n",
       "      <td>17.74</td>\n",
       "    </tr>\n",
       "  </tbody>\n",
       "</table>\n",
       "</div>"
      ],
      "text/plain": [
       "   Unnamed: 0                              Name    Location  Year  \\\n",
       "0           0            Maruti Wagon R LXI CNG      Mumbai  2010   \n",
       "1           1  Hyundai Creta 1.6 CRDi SX Option        Pune  2015   \n",
       "2           2                      Honda Jazz V     Chennai  2011   \n",
       "3           3                 Maruti Ertiga VDI     Chennai  2012   \n",
       "4           4   Audi A4 New 2.0 TDI Multitronic  Coimbatore  2013   \n",
       "\n",
       "   Kilometers_Driven Fuel_Type Transmission Owner_Type     Mileage   Engine  \\\n",
       "0              72000       CNG       Manual      First  26.6 km/kg   998 CC   \n",
       "1              41000    Diesel       Manual      First  19.67 kmpl  1582 CC   \n",
       "2              46000    Petrol       Manual      First   18.2 kmpl  1199 CC   \n",
       "3              87000    Diesel       Manual      First  20.77 kmpl  1248 CC   \n",
       "4              40670    Diesel    Automatic     Second   15.2 kmpl  1968 CC   \n",
       "\n",
       "       Power  Seats  New_Price  Price  \n",
       "0  58.16 bhp    5.0        NaN   1.75  \n",
       "1  126.2 bhp    5.0        NaN  12.50  \n",
       "2   88.7 bhp    5.0  8.61 Lakh   4.50  \n",
       "3  88.76 bhp    7.0        NaN   6.00  \n",
       "4  140.8 bhp    5.0        NaN  17.74  "
      ]
     },
     "execution_count": 9,
     "metadata": {},
     "output_type": "execute_result"
    }
   ],
   "source": [
    "od_mod.head()"
   ]
  },
  {
   "cell_type": "code",
   "execution_count": 10,
   "id": "2bd50cf3",
   "metadata": {},
   "outputs": [],
   "source": [
    "od_mod = od_mod.rename(columns={'Engine': 'Engine(CC)', 'Power': 'Power(bhp)','Price':'Price in Lakhs'})"
   ]
  },
  {
   "cell_type": "code",
   "execution_count": 11,
   "id": "2d3d1d57",
   "metadata": {},
   "outputs": [
    {
     "data": {
      "text/plain": [
       "Unnamed: 0              0\n",
       "Name                    0\n",
       "Location                0\n",
       "Year                    0\n",
       "Kilometers_Driven       0\n",
       "Fuel_Type               0\n",
       "Transmission            0\n",
       "Owner_Type              0\n",
       "Mileage                 2\n",
       "Engine(CC)             36\n",
       "Power(bhp)             36\n",
       "Seats                  42\n",
       "New_Price            5195\n",
       "Price in Lakhs          0\n",
       "dtype: int64"
      ]
     },
     "execution_count": 11,
     "metadata": {},
     "output_type": "execute_result"
    }
   ],
   "source": [
    "od_mod.isnull().sum()"
   ]
  },
  {
   "cell_type": "code",
   "execution_count": 12,
   "id": "4c46b3b2",
   "metadata": {},
   "outputs": [],
   "source": [
    "od_mod.drop('Unnamed: 0',axis=1,inplace=True)\n",
    "od_mod.drop('New_Price',axis=1,inplace=True)"
   ]
  },
  {
   "cell_type": "code",
   "execution_count": 13,
   "id": "403c8edb",
   "metadata": {},
   "outputs": [
    {
     "name": "stdout",
     "output_type": "stream",
     "text": [
      "0    1197 CC\n",
      "dtype: object\n",
      "0    74 bhp\n",
      "dtype: object\n",
      "0    17.0 kmpl\n",
      "1    18.9 kmpl\n",
      "dtype: object\n",
      "0    5.0\n",
      "dtype: float64\n"
     ]
    }
   ],
   "source": [
    "print(od_mod['Engine(CC)'].mode())\n",
    "print(od_mod['Power(bhp)'].mode())\n",
    "print(od_mod['Mileage'].mode())\n",
    "print(od_mod['Seats'].mode())"
   ]
  },
  {
   "cell_type": "code",
   "execution_count": 14,
   "id": "098289bc",
   "metadata": {},
   "outputs": [],
   "source": [
    "od_mod['Engine(CC)']=od_mod['Engine(CC)'].fillna(\"1197 CC\")"
   ]
  },
  {
   "cell_type": "code",
   "execution_count": 15,
   "id": "b7a7fa36",
   "metadata": {},
   "outputs": [],
   "source": [
    "od_mod['Power(bhp)']=od_mod['Power(bhp)'].fillna(\"74 bhp\")"
   ]
  },
  {
   "cell_type": "code",
   "execution_count": 17,
   "id": "65da33ed",
   "metadata": {},
   "outputs": [],
   "source": [
    "od_mod['Mileage'] = [float(str(i).replace(\",\", \"\")) for i in od_mod['Mileage'].fillna(\"17 kmpl\")]"
   ]
  },
  {
   "cell_type": "code",
   "execution_count": 36,
   "id": "90c571ba",
   "metadata": {},
   "outputs": [],
   "source": [
    "od_mod['Seats']=od_mod['Seats'].fillna(\"5.0\")"
   ]
  },
  {
   "cell_type": "code",
   "execution_count": 37,
   "id": "04e44087",
   "metadata": {},
   "outputs": [
    {
     "data": {
      "text/plain": [
       "Name                 0\n",
       "Location             0\n",
       "Year                 0\n",
       "Kilometers_Driven    0\n",
       "Fuel_Type            0\n",
       "Transmission         0\n",
       "Owner_Type           0\n",
       "Mileage              2\n",
       "Engine(CC)           0\n",
       "Power(bhp)           0\n",
       "Seats                0\n",
       "Price in Lakhs       0\n",
       "dtype: int64"
      ]
     },
     "execution_count": 37,
     "metadata": {},
     "output_type": "execute_result"
    }
   ],
   "source": [
    "od_mod.isnull().sum()"
   ]
  },
  {
   "cell_type": "code",
   "execution_count": 38,
   "id": "eebb3f31",
   "metadata": {},
   "outputs": [],
   "source": [
    "od_mod['Engine(CC)']=pd.to_numeric(od_mod['Engine(CC)'].str.lower().str.split().str.get(0),errors='coerce')\n",
    "od_mod['Power(bhp)']=pd.to_numeric(od_mod['Power(bhp)'].str.lower().str.split().str.get(0),errors='coerce')\n",
    "od_mod['Mileage']=pd.to_numeric(od_mod['Mileage'].str.lower().str.split().str.get(0),errors='coerce')"
   ]
  },
  {
   "cell_type": "code",
   "execution_count": null,
   "id": "edbfb250",
   "metadata": {},
   "outputs": [],
   "source": [
    "od_mod.info()"
   ]
  },
  {
   "cell_type": "code",
   "execution_count": null,
   "id": "526acc52",
   "metadata": {},
   "outputs": [],
   "source": [
    "od_mod['Manufacturer'] = [i.split()[0] for i in od_mod['Name']]"
   ]
  },
  {
   "cell_type": "code",
   "execution_count": null,
   "id": "5a9d82ae",
   "metadata": {},
   "outputs": [],
   "source": [
    "od_mod['Manufacturer'].value_counts()"
   ]
  },
  {
   "cell_type": "code",
   "execution_count": null,
   "id": "39aa8e90",
   "metadata": {},
   "outputs": [],
   "source": [
    "#Moving Manufacturer in first column\n",
    "first_column=od_mod.pop('Manufacturer')\n",
    "od_mod.insert(0,'Manufacturer',first_column)"
   ]
  },
  {
   "cell_type": "code",
   "execution_count": null,
   "id": "2d88c2be",
   "metadata": {},
   "outputs": [],
   "source": [
    "od_mod.head()"
   ]
  },
  {
   "cell_type": "code",
   "execution_count": null,
   "id": "d745506c",
   "metadata": {},
   "outputs": [],
   "source": [
    "od_mod['Manufacturer'].value_counts()"
   ]
  },
  {
   "cell_type": "code",
   "execution_count": null,
   "id": "1c0210f2",
   "metadata": {},
   "outputs": [],
   "source": [
    "od_mod.corr()['Price in Lakhs']"
   ]
  },
  {
   "cell_type": "code",
   "execution_count": null,
   "id": "59a41331",
   "metadata": {},
   "outputs": [],
   "source": [
    "plt.figure(figsize=(12,6))\n",
    "od_mod.groupby('Manufacturer')['Price in Lakhs'].mean().plot(kind='bar')"
   ]
  },
  {
   "cell_type": "code",
   "execution_count": null,
   "id": "3a8230bb",
   "metadata": {},
   "outputs": [],
   "source": [
    "plt.figure(figsize=(12,6))\n",
    "od_mod.groupby('Power(bhp)')['Price in Lakhs'].mean().plot()"
   ]
  },
  {
   "cell_type": "code",
   "execution_count": null,
   "id": "838e5e60",
   "metadata": {},
   "outputs": [],
   "source": [
    "plt.figure(figsize=(12,6))\n",
    "od_mod.groupby('Engine(CC)')['Price in Lakhs'].mean().plot()"
   ]
  },
  {
   "cell_type": "code",
   "execution_count": null,
   "id": "6314cc85",
   "metadata": {},
   "outputs": [],
   "source": [
    "plt.figure(figsize=(12,6))\n",
    "sns.countplot(data=od_mod,x='Fuel_Type')"
   ]
  },
  {
   "cell_type": "code",
   "execution_count": null,
   "id": "00eee3d1",
   "metadata": {},
   "outputs": [],
   "source": [
    "plt.figure(figsize=(12,6))\n",
    "od_mod.groupby('Fuel_Type')['Mileage'].mean().plot()"
   ]
  },
  {
   "cell_type": "code",
   "execution_count": null,
   "id": "7224cd06",
   "metadata": {},
   "outputs": [],
   "source": [
    "plt.figure(figsize=(12,6))\n",
    "od_mod.groupby('Fuel_Type')['Price in Lakhs'].mean().plot(kind='bar')"
   ]
  },
  {
   "cell_type": "code",
   "execution_count": null,
   "id": "e3cad97a",
   "metadata": {},
   "outputs": [],
   "source": [
    "plt.figure(figsize=(12,6))\n",
    "od_mod.groupby('Manufacturer')['Kilometers_Driven'].mean().plot(kind='bar')"
   ]
  },
  {
   "cell_type": "code",
   "execution_count": null,
   "id": "77f88069",
   "metadata": {},
   "outputs": [],
   "source": [
    "od_mod.groupby('Transmission')['Mileage'].mean()"
   ]
  },
  {
   "cell_type": "code",
   "execution_count": null,
   "id": "346b2cd2",
   "metadata": {},
   "outputs": [],
   "source": [
    "plt.figure(figsize=(12,6))\n",
    "od_mod.groupby('Location')['Price in Lakhs'].mean().plot(kind='bar')"
   ]
  },
  {
   "cell_type": "code",
   "execution_count": 1,
   "id": "037f4b77",
   "metadata": {},
   "outputs": [
    {
     "ename": "NameError",
     "evalue": "name 'od_mod' is not defined",
     "output_type": "error",
     "traceback": [
      "\u001b[0;31m---------------------------------------------------------------------------\u001b[0m",
      "\u001b[0;31mNameError\u001b[0m                                 Traceback (most recent call last)",
      "\u001b[0;32m<ipython-input-1-eb6b1033e29e>\u001b[0m in \u001b[0;36m<module>\u001b[0;34m\u001b[0m\n\u001b[0;32m----> 1\u001b[0;31m \u001b[0mnames\u001b[0m\u001b[0;34m=\u001b[0m\u001b[0mod_mod\u001b[0m\u001b[0;34m[\u001b[0m\u001b[0;34m'Name'\u001b[0m\u001b[0;34m]\u001b[0m\u001b[0;34m.\u001b[0m\u001b[0mvalue_counts\u001b[0m\u001b[0;34m(\u001b[0m\u001b[0;34m)\u001b[0m\u001b[0;34m\u001b[0m\u001b[0;34m\u001b[0m\u001b[0m\n\u001b[0m\u001b[1;32m      2\u001b[0m \u001b[0mnames_less_than_11\u001b[0m\u001b[0;34m=\u001b[0m\u001b[0mnames\u001b[0m\u001b[0;34m[\u001b[0m\u001b[0mnames\u001b[0m\u001b[0;34m<=\u001b[0m\u001b[0;36m10\u001b[0m\u001b[0;34m]\u001b[0m\u001b[0;34m\u001b[0m\u001b[0;34m\u001b[0m\u001b[0m\n",
      "\u001b[0;31mNameError\u001b[0m: name 'od_mod' is not defined"
     ]
    }
   ],
   "source": [
    "names=od_mod['Name'].value_counts()\n",
    "names_less_than_11=names[names<=10]"
   ]
  },
  {
   "cell_type": "code",
   "execution_count": null,
   "id": "3c0a7ff7",
   "metadata": {},
   "outputs": [],
   "source": [
    "len(names[names<=10])"
   ]
  },
  {
   "cell_type": "code",
   "execution_count": null,
   "id": "e8946209",
   "metadata": {},
   "outputs": [],
   "source": [
    "od_mod['Name']=od_mod['Name'].apply(lambda i:'Other' if i in names_less_than_11 else i)"
   ]
  },
  {
   "cell_type": "code",
   "execution_count": null,
   "id": "45353a27",
   "metadata": {},
   "outputs": [],
   "source": [
    "od_mod['Name'].value_counts()"
   ]
  },
  {
   "cell_type": "markdown",
   "id": "6bef18ba",
   "metadata": {},
   "source": [
    "## Checking for outliers"
   ]
  },
  {
   "cell_type": "code",
   "execution_count": null,
   "id": "3c5beef9",
   "metadata": {},
   "outputs": [],
   "source": [
    "od_mod[od_mod['Mileage']<=5]"
   ]
  },
  {
   "cell_type": "code",
   "execution_count": null,
   "id": "0d1b7512",
   "metadata": {},
   "outputs": [],
   "source": [
    "mileage_mean=od_mod['Mileage'].mean()\n",
    "od_mod['Mileage']=[i if i>5 else float(int(mileage_mean)) for i in od_mod['Mileage']]"
   ]
  },
  {
   "cell_type": "code",
   "execution_count": null,
   "id": "8b1d0327",
   "metadata": {},
   "outputs": [],
   "source": [
    "od_mod[od_mod['Kilometers_Driven']>500000]"
   ]
  },
  {
   "cell_type": "code",
   "execution_count": null,
   "id": "9043c56f",
   "metadata": {},
   "outputs": [],
   "source": [
    "km_driven_mean = od_mod['Kilometers_Driven'].mean()\n",
    "od_mod['Kilometers_Driven']=[i if i<500000 else float(int(km_driven_mean)) for i in od_mod['Kilometers_Driven']]"
   ]
  },
  {
   "cell_type": "code",
   "execution_count": null,
   "id": "57777298",
   "metadata": {},
   "outputs": [],
   "source": [
    "#Age w.r.t 2021\n",
    "od_mod['Age']=[2021-i for i in od_mod['Year']]"
   ]
  },
  {
   "cell_type": "code",
   "execution_count": null,
   "id": "fd2e06cc",
   "metadata": {},
   "outputs": [],
   "source": [
    "od_mod.head()"
   ]
  },
  {
   "cell_type": "code",
   "execution_count": null,
   "id": "932f3b33",
   "metadata": {},
   "outputs": [],
   "source": [
    "#Moving age to 4th place\n",
    "fourth_column=od_mod.pop('Age')\n",
    "od_mod.insert(4,'Age',fourth_column)"
   ]
  },
  {
   "cell_type": "code",
   "execution_count": null,
   "id": "7b52fa51",
   "metadata": {},
   "outputs": [],
   "source": [
    "od_mod.head()"
   ]
  },
  {
   "cell_type": "code",
   "execution_count": null,
   "id": "c0f77313",
   "metadata": {},
   "outputs": [],
   "source": [
    "od_mod.info()"
   ]
  },
  {
   "cell_type": "code",
   "execution_count": null,
   "id": "b299a6b3",
   "metadata": {},
   "outputs": [],
   "source": [
    "od_mod['Seats']=od_mod['Seats'].astype(str).astype(float)"
   ]
  },
  {
   "cell_type": "code",
   "execution_count": null,
   "id": "c04c06f7",
   "metadata": {},
   "outputs": [],
   "source": [
    "power_mode=od_mod['Power(bhp)'].mode()\n",
    "od_mod['Power(bhp)']=od_mod['Power(bhp)'].fillna(float(int(power_mode)))"
   ]
  },
  {
   "cell_type": "code",
   "execution_count": 49,
   "id": "4ac34c8c",
   "metadata": {},
   "outputs": [
    {
     "data": {
      "text/plain": [
       "1618.7388270476824"
      ]
     },
     "execution_count": 49,
     "metadata": {},
     "output_type": "execute_result"
    }
   ],
   "source": [
    "od_mod['Engine(CC)'].mean()"
   ]
  },
  {
   "cell_type": "code",
   "execution_count": 48,
   "id": "dde6c489",
   "metadata": {},
   "outputs": [
    {
     "data": {
      "text/plain": [
       "66"
      ]
     },
     "execution_count": 48,
     "metadata": {},
     "output_type": "execute_result"
    }
   ],
   "source": [
    "od_mod[od_mod['Engine(CC)']>2000]['Engine(CC)'].nunique()"
   ]
  },
  {
   "cell_type": "code",
   "execution_count": 60,
   "id": "11e52c3b",
   "metadata": {},
   "outputs": [
    {
     "data": {
      "text/plain": [
       "First             4929\n",
       "Second             968\n",
       "Third              113\n",
       "Fourth & Above       9\n",
       "Name: Owner_Type, dtype: int64"
      ]
     },
     "execution_count": 60,
     "metadata": {},
     "output_type": "execute_result"
    }
   ],
   "source": [
    "od_mod['Owner_Type'].value_counts()"
   ]
  },
  {
   "cell_type": "code",
   "execution_count": 52,
   "id": "67a60735",
   "metadata": {},
   "outputs": [],
   "source": [
    "owner_dict={'First':1,\n",
    "            'Second':2,\n",
    "            'Third':3,\n",
    "            'Fourth & Above':4}"
   ]
  },
  {
   "cell_type": "code",
   "execution_count": 53,
   "id": "37347e38",
   "metadata": {},
   "outputs": [],
   "source": [
    "od_mod['Owner_Type']=od_mod['Owner_Type'].map(owner_dict)"
   ]
  },
  {
   "cell_type": "code",
   "execution_count": 54,
   "id": "e1b47dc5",
   "metadata": {},
   "outputs": [],
   "source": [
    "od_mod['Transmission_Numeric']=pd.get_dummies(od_mod['Transmission'],drop_first=True)"
   ]
  },
  {
   "cell_type": "code",
   "execution_count": 56,
   "id": "22512f98",
   "metadata": {},
   "outputs": [],
   "source": [
    "numeric_data=od_mod[['Year','Age','Kilometers_Driven','Transmission_Numeric','Owner_Type','Mileage','Engine(CC)','Power(bhp)','Seats','Price in Lakhs']]"
   ]
  },
  {
   "cell_type": "code",
   "execution_count": 57,
   "id": "a0e62e77",
   "metadata": {},
   "outputs": [],
   "source": [
    "#Using One Hot Encoding\n",
    "manufacturer_dummies = pd.get_dummies(od_mod['Manufacturer'])\n",
    "name_dummies = pd.get_dummies(od_mod['Name'])\n",
    "location_dummies = pd.get_dummies(od_mod['Location'])\n",
    "fuel_type_dummies = pd.get_dummies(od_mod['Fuel_Type'])"
   ]
  },
  {
   "cell_type": "code",
   "execution_count": 58,
   "id": "099d0d2d",
   "metadata": {},
   "outputs": [],
   "source": [
    "final_ds=pd.concat([numeric_data,manufacturer_dummies,name_dummies,location_dummies,fuel_type_dummies],axis=1)"
   ]
  },
  {
   "cell_type": "code",
   "execution_count": 59,
   "id": "085fc1fd",
   "metadata": {},
   "outputs": [
    {
     "data": {
      "text/html": [
       "<div>\n",
       "<style scoped>\n",
       "    .dataframe tbody tr th:only-of-type {\n",
       "        vertical-align: middle;\n",
       "    }\n",
       "\n",
       "    .dataframe tbody tr th {\n",
       "        vertical-align: top;\n",
       "    }\n",
       "\n",
       "    .dataframe thead th {\n",
       "        text-align: right;\n",
       "    }\n",
       "</style>\n",
       "<table border=\"1\" class=\"dataframe\">\n",
       "  <thead>\n",
       "    <tr style=\"text-align: right;\">\n",
       "      <th></th>\n",
       "      <th>Year</th>\n",
       "      <th>Age</th>\n",
       "      <th>Kilometers_Driven</th>\n",
       "      <th>Transmission_Numeric</th>\n",
       "      <th>Owner_Type</th>\n",
       "      <th>Mileage</th>\n",
       "      <th>Engine(CC)</th>\n",
       "      <th>Power(bhp)</th>\n",
       "      <th>Seats</th>\n",
       "      <th>Price in Lakhs</th>\n",
       "      <th>...</th>\n",
       "      <th>Jaipur</th>\n",
       "      <th>Kochi</th>\n",
       "      <th>Kolkata</th>\n",
       "      <th>Mumbai</th>\n",
       "      <th>Pune</th>\n",
       "      <th>CNG</th>\n",
       "      <th>Diesel</th>\n",
       "      <th>Electric</th>\n",
       "      <th>LPG</th>\n",
       "      <th>Petrol</th>\n",
       "    </tr>\n",
       "  </thead>\n",
       "  <tbody>\n",
       "    <tr>\n",
       "      <th>0</th>\n",
       "      <td>2010</td>\n",
       "      <td>11</td>\n",
       "      <td>72000.0</td>\n",
       "      <td>1</td>\n",
       "      <td>1</td>\n",
       "      <td>26.60</td>\n",
       "      <td>998</td>\n",
       "      <td>58.16</td>\n",
       "      <td>5.0</td>\n",
       "      <td>1.75</td>\n",
       "      <td>...</td>\n",
       "      <td>0</td>\n",
       "      <td>0</td>\n",
       "      <td>0</td>\n",
       "      <td>1</td>\n",
       "      <td>0</td>\n",
       "      <td>1</td>\n",
       "      <td>0</td>\n",
       "      <td>0</td>\n",
       "      <td>0</td>\n",
       "      <td>0</td>\n",
       "    </tr>\n",
       "    <tr>\n",
       "      <th>1</th>\n",
       "      <td>2015</td>\n",
       "      <td>6</td>\n",
       "      <td>41000.0</td>\n",
       "      <td>1</td>\n",
       "      <td>1</td>\n",
       "      <td>19.67</td>\n",
       "      <td>1582</td>\n",
       "      <td>126.20</td>\n",
       "      <td>5.0</td>\n",
       "      <td>12.50</td>\n",
       "      <td>...</td>\n",
       "      <td>0</td>\n",
       "      <td>0</td>\n",
       "      <td>0</td>\n",
       "      <td>0</td>\n",
       "      <td>1</td>\n",
       "      <td>0</td>\n",
       "      <td>1</td>\n",
       "      <td>0</td>\n",
       "      <td>0</td>\n",
       "      <td>0</td>\n",
       "    </tr>\n",
       "    <tr>\n",
       "      <th>2</th>\n",
       "      <td>2011</td>\n",
       "      <td>10</td>\n",
       "      <td>46000.0</td>\n",
       "      <td>1</td>\n",
       "      <td>1</td>\n",
       "      <td>18.20</td>\n",
       "      <td>1199</td>\n",
       "      <td>88.70</td>\n",
       "      <td>5.0</td>\n",
       "      <td>4.50</td>\n",
       "      <td>...</td>\n",
       "      <td>0</td>\n",
       "      <td>0</td>\n",
       "      <td>0</td>\n",
       "      <td>0</td>\n",
       "      <td>0</td>\n",
       "      <td>0</td>\n",
       "      <td>0</td>\n",
       "      <td>0</td>\n",
       "      <td>0</td>\n",
       "      <td>1</td>\n",
       "    </tr>\n",
       "    <tr>\n",
       "      <th>3</th>\n",
       "      <td>2012</td>\n",
       "      <td>9</td>\n",
       "      <td>87000.0</td>\n",
       "      <td>1</td>\n",
       "      <td>1</td>\n",
       "      <td>20.77</td>\n",
       "      <td>1248</td>\n",
       "      <td>88.76</td>\n",
       "      <td>7.0</td>\n",
       "      <td>6.00</td>\n",
       "      <td>...</td>\n",
       "      <td>0</td>\n",
       "      <td>0</td>\n",
       "      <td>0</td>\n",
       "      <td>0</td>\n",
       "      <td>0</td>\n",
       "      <td>0</td>\n",
       "      <td>1</td>\n",
       "      <td>0</td>\n",
       "      <td>0</td>\n",
       "      <td>0</td>\n",
       "    </tr>\n",
       "    <tr>\n",
       "      <th>4</th>\n",
       "      <td>2013</td>\n",
       "      <td>8</td>\n",
       "      <td>40670.0</td>\n",
       "      <td>0</td>\n",
       "      <td>2</td>\n",
       "      <td>15.20</td>\n",
       "      <td>1968</td>\n",
       "      <td>140.80</td>\n",
       "      <td>5.0</td>\n",
       "      <td>17.74</td>\n",
       "      <td>...</td>\n",
       "      <td>0</td>\n",
       "      <td>0</td>\n",
       "      <td>0</td>\n",
       "      <td>0</td>\n",
       "      <td>0</td>\n",
       "      <td>0</td>\n",
       "      <td>1</td>\n",
       "      <td>0</td>\n",
       "      <td>0</td>\n",
       "      <td>0</td>\n",
       "    </tr>\n",
       "  </tbody>\n",
       "</table>\n",
       "<p>5 rows × 161 columns</p>\n",
       "</div>"
      ],
      "text/plain": [
       "   Year  Age  Kilometers_Driven  Transmission_Numeric  Owner_Type  Mileage  \\\n",
       "0  2010   11            72000.0                     1           1    26.60   \n",
       "1  2015    6            41000.0                     1           1    19.67   \n",
       "2  2011   10            46000.0                     1           1    18.20   \n",
       "3  2012    9            87000.0                     1           1    20.77   \n",
       "4  2013    8            40670.0                     0           2    15.20   \n",
       "\n",
       "   Engine(CC)  Power(bhp)  Seats  Price in Lakhs  ...  Jaipur  Kochi  Kolkata  \\\n",
       "0         998       58.16    5.0            1.75  ...       0      0        0   \n",
       "1        1582      126.20    5.0           12.50  ...       0      0        0   \n",
       "2        1199       88.70    5.0            4.50  ...       0      0        0   \n",
       "3        1248       88.76    7.0            6.00  ...       0      0        0   \n",
       "4        1968      140.80    5.0           17.74  ...       0      0        0   \n",
       "\n",
       "   Mumbai  Pune  CNG  Diesel  Electric  LPG  Petrol  \n",
       "0       1     0    1       0         0    0       0  \n",
       "1       0     1    0       1         0    0       0  \n",
       "2       0     0    0       0         0    0       1  \n",
       "3       0     0    0       1         0    0       0  \n",
       "4       0     0    0       1         0    0       0  \n",
       "\n",
       "[5 rows x 161 columns]"
      ]
     },
     "execution_count": 59,
     "metadata": {},
     "output_type": "execute_result"
    }
   ],
   "source": [
    "final_ds.head()"
   ]
  },
  {
   "cell_type": "code",
   "execution_count": 60,
   "id": "e3da4d55",
   "metadata": {},
   "outputs": [],
   "source": [
    "age_array=final_ds['Age'].values\n",
    "kms_array=final_ds['Kilometers_Driven'].values\n",
    "mileage_array=final_ds['Mileage'].values\n",
    "engine_array=final_ds['Engine(CC)'].values\n",
    "power_array=final_ds['Power(bhp)'].values\n",
    "owner_array=final_ds['Owner_Type'].values\n",
    "seats_array=final_ds['Seats'].values"
   ]
  },
  {
   "cell_type": "code",
   "execution_count": 61,
   "id": "18e0522f",
   "metadata": {},
   "outputs": [],
   "source": [
    "std_scaler=StandardScaler()"
   ]
  },
  {
   "cell_type": "code",
   "execution_count": 62,
   "id": "dbae3509",
   "metadata": {},
   "outputs": [],
   "source": [
    "Age=std_scaler.fit_transform(age_array.reshape(-1,1))\n",
    "final_ds['Age']=pd.DataFrame(Age)\n",
    "Kilometers_Driven=std_scaler.fit_transform(kms_array.reshape(-1,1))\n",
    "final_ds['Kilometers_Driven']=pd.DataFrame(Kilometers_Driven)\n",
    "Mileage=std_scaler.fit_transform(mileage_array.reshape(-1,1))\n",
    "final_ds['Mileage']=pd.DataFrame(Mileage)\n",
    "Engine=std_scaler.fit_transform(engine_array.reshape(-1,1))\n",
    "final_ds['Engine(CC)']=pd.DataFrame(Engine)\n",
    "Power=std_scaler.fit_transform(power_array.reshape(-1,1))\n",
    "final_ds['Power(bhp)']=pd.DataFrame(Power)\n",
    "Owner=std_scaler.fit_transform(owner_array.reshape(-1,1))\n",
    "final_ds['Owner_Type']=pd.DataFrame(Owner)\n",
    "Seats=std_scaler.fit_transform(seats_array.reshape(-1,1))\n",
    "final_ds['Seats']=pd.DataFrame(Seats)"
   ]
  },
  {
   "cell_type": "code",
   "execution_count": 63,
   "id": "9fb2e4da",
   "metadata": {},
   "outputs": [
    {
     "data": {
      "text/html": [
       "<div>\n",
       "<style scoped>\n",
       "    .dataframe tbody tr th:only-of-type {\n",
       "        vertical-align: middle;\n",
       "    }\n",
       "\n",
       "    .dataframe tbody tr th {\n",
       "        vertical-align: top;\n",
       "    }\n",
       "\n",
       "    .dataframe thead th {\n",
       "        text-align: right;\n",
       "    }\n",
       "</style>\n",
       "<table border=\"1\" class=\"dataframe\">\n",
       "  <thead>\n",
       "    <tr style=\"text-align: right;\">\n",
       "      <th></th>\n",
       "      <th>Year</th>\n",
       "      <th>Age</th>\n",
       "      <th>Kilometers_Driven</th>\n",
       "      <th>Transmission_Numeric</th>\n",
       "      <th>Owner_Type</th>\n",
       "      <th>Mileage</th>\n",
       "      <th>Engine(CC)</th>\n",
       "      <th>Power(bhp)</th>\n",
       "      <th>Seats</th>\n",
       "      <th>Price in Lakhs</th>\n",
       "      <th>...</th>\n",
       "      <th>Jaipur</th>\n",
       "      <th>Kochi</th>\n",
       "      <th>Kolkata</th>\n",
       "      <th>Mumbai</th>\n",
       "      <th>Pune</th>\n",
       "      <th>CNG</th>\n",
       "      <th>Diesel</th>\n",
       "      <th>Electric</th>\n",
       "      <th>LPG</th>\n",
       "      <th>Petrol</th>\n",
       "    </tr>\n",
       "  </thead>\n",
       "  <tbody>\n",
       "    <tr>\n",
       "      <th>0</th>\n",
       "      <td>2010</td>\n",
       "      <td>1.027139</td>\n",
       "      <td>0.418971</td>\n",
       "      <td>1</td>\n",
       "      <td>-0.444554</td>\n",
       "      <td>1.990376</td>\n",
       "      <td>-1.033882</td>\n",
       "      <td>-1.011188</td>\n",
       "      <td>-0.343293</td>\n",
       "      <td>1.75</td>\n",
       "      <td>...</td>\n",
       "      <td>0</td>\n",
       "      <td>0</td>\n",
       "      <td>0</td>\n",
       "      <td>1</td>\n",
       "      <td>0</td>\n",
       "      <td>1</td>\n",
       "      <td>0</td>\n",
       "      <td>0</td>\n",
       "      <td>0</td>\n",
       "      <td>0</td>\n",
       "    </tr>\n",
       "    <tr>\n",
       "      <th>1</th>\n",
       "      <td>2015</td>\n",
       "      <td>-0.502161</td>\n",
       "      <td>-0.467354</td>\n",
       "      <td>1</td>\n",
       "      <td>-0.444554</td>\n",
       "      <td>0.320901</td>\n",
       "      <td>-0.061191</td>\n",
       "      <td>0.259134</td>\n",
       "      <td>-0.343293</td>\n",
       "      <td>12.50</td>\n",
       "      <td>...</td>\n",
       "      <td>0</td>\n",
       "      <td>0</td>\n",
       "      <td>0</td>\n",
       "      <td>0</td>\n",
       "      <td>1</td>\n",
       "      <td>0</td>\n",
       "      <td>1</td>\n",
       "      <td>0</td>\n",
       "      <td>0</td>\n",
       "      <td>0</td>\n",
       "    </tr>\n",
       "    <tr>\n",
       "      <th>2</th>\n",
       "      <td>2011</td>\n",
       "      <td>0.721279</td>\n",
       "      <td>-0.324398</td>\n",
       "      <td>1</td>\n",
       "      <td>-0.444554</td>\n",
       "      <td>-0.033230</td>\n",
       "      <td>-0.699103</td>\n",
       "      <td>-0.440999</td>\n",
       "      <td>-0.343293</td>\n",
       "      <td>4.50</td>\n",
       "      <td>...</td>\n",
       "      <td>0</td>\n",
       "      <td>0</td>\n",
       "      <td>0</td>\n",
       "      <td>0</td>\n",
       "      <td>0</td>\n",
       "      <td>0</td>\n",
       "      <td>0</td>\n",
       "      <td>0</td>\n",
       "      <td>0</td>\n",
       "      <td>1</td>\n",
       "    </tr>\n",
       "    <tr>\n",
       "      <th>3</th>\n",
       "      <td>2012</td>\n",
       "      <td>0.415419</td>\n",
       "      <td>0.847838</td>\n",
       "      <td>1</td>\n",
       "      <td>-0.444554</td>\n",
       "      <td>0.585897</td>\n",
       "      <td>-0.617491</td>\n",
       "      <td>-0.439879</td>\n",
       "      <td>2.137237</td>\n",
       "      <td>6.00</td>\n",
       "      <td>...</td>\n",
       "      <td>0</td>\n",
       "      <td>0</td>\n",
       "      <td>0</td>\n",
       "      <td>0</td>\n",
       "      <td>0</td>\n",
       "      <td>0</td>\n",
       "      <td>1</td>\n",
       "      <td>0</td>\n",
       "      <td>0</td>\n",
       "      <td>0</td>\n",
       "    </tr>\n",
       "    <tr>\n",
       "      <th>4</th>\n",
       "      <td>2013</td>\n",
       "      <td>0.109559</td>\n",
       "      <td>-0.476789</td>\n",
       "      <td>0</td>\n",
       "      <td>1.746903</td>\n",
       "      <td>-0.755947</td>\n",
       "      <td>0.581718</td>\n",
       "      <td>0.531719</td>\n",
       "      <td>-0.343293</td>\n",
       "      <td>17.74</td>\n",
       "      <td>...</td>\n",
       "      <td>0</td>\n",
       "      <td>0</td>\n",
       "      <td>0</td>\n",
       "      <td>0</td>\n",
       "      <td>0</td>\n",
       "      <td>0</td>\n",
       "      <td>1</td>\n",
       "      <td>0</td>\n",
       "      <td>0</td>\n",
       "      <td>0</td>\n",
       "    </tr>\n",
       "  </tbody>\n",
       "</table>\n",
       "<p>5 rows × 161 columns</p>\n",
       "</div>"
      ],
      "text/plain": [
       "   Year       Age  Kilometers_Driven  Transmission_Numeric  Owner_Type  \\\n",
       "0  2010  1.027139           0.418971                     1   -0.444554   \n",
       "1  2015 -0.502161          -0.467354                     1   -0.444554   \n",
       "2  2011  0.721279          -0.324398                     1   -0.444554   \n",
       "3  2012  0.415419           0.847838                     1   -0.444554   \n",
       "4  2013  0.109559          -0.476789                     0    1.746903   \n",
       "\n",
       "    Mileage  Engine(CC)  Power(bhp)     Seats  Price in Lakhs  ...  Jaipur  \\\n",
       "0  1.990376   -1.033882   -1.011188 -0.343293            1.75  ...       0   \n",
       "1  0.320901   -0.061191    0.259134 -0.343293           12.50  ...       0   \n",
       "2 -0.033230   -0.699103   -0.440999 -0.343293            4.50  ...       0   \n",
       "3  0.585897   -0.617491   -0.439879  2.137237            6.00  ...       0   \n",
       "4 -0.755947    0.581718    0.531719 -0.343293           17.74  ...       0   \n",
       "\n",
       "   Kochi  Kolkata  Mumbai  Pune  CNG  Diesel  Electric  LPG  Petrol  \n",
       "0      0        0       1     0    1       0         0    0       0  \n",
       "1      0        0       0     1    0       1         0    0       0  \n",
       "2      0        0       0     0    0       0         0    0       1  \n",
       "3      0        0       0     0    0       1         0    0       0  \n",
       "4      0        0       0     0    0       1         0    0       0  \n",
       "\n",
       "[5 rows x 161 columns]"
      ]
     },
     "execution_count": 63,
     "metadata": {},
     "output_type": "execute_result"
    }
   ],
   "source": [
    "final_ds.head()"
   ]
  },
  {
   "cell_type": "code",
   "execution_count": 64,
   "id": "9149d04f",
   "metadata": {},
   "outputs": [],
   "source": [
    "#final_ds.to_csv('Used_Cars_Cleaned1.csv',index=False)"
   ]
  },
  {
   "cell_type": "markdown",
   "id": "77ac3d16",
   "metadata": {},
   "source": [
    "## Training"
   ]
  },
  {
   "cell_type": "code",
   "execution_count": 76,
   "id": "fb2e4887",
   "metadata": {},
   "outputs": [],
   "source": [
    "from sklearn.model_selection import train_test_split\n",
    "from sklearn.ensemble import RandomForestRegressor\n",
    "from sklearn.metrics import mean_squared_error,mean_absolute_error"
   ]
  },
  {
   "cell_type": "code",
   "execution_count": 66,
   "id": "0e4ebcb9",
   "metadata": {},
   "outputs": [],
   "source": [
    "X=final_ds.drop(['Price in Lakhs','Year'],axis=1)\n",
    "y=final_ds['Price in Lakhs']"
   ]
  },
  {
   "cell_type": "code",
   "execution_count": 67,
   "id": "cf2d60db",
   "metadata": {},
   "outputs": [
    {
     "data": {
      "text/plain": [
       "array([[-0.69093384],\n",
       "       [ 0.27000402],\n",
       "       [-0.44511253],\n",
       "       ...,\n",
       "       [-0.58813584],\n",
       "       [-0.61048323],\n",
       "       [-0.62389166]])"
      ]
     },
     "execution_count": 67,
     "metadata": {},
     "output_type": "execute_result"
    }
   ],
   "source": [
    "y=std_scaler.fit_transform(y.values.reshape(-1,1))\n",
    "y"
   ]
  },
  {
   "cell_type": "code",
   "execution_count": 68,
   "id": "2c992429",
   "metadata": {},
   "outputs": [],
   "source": [
    "X_train, X_test, y_train, y_test = train_test_split(X, y, test_size=0.3, random_state=42)"
   ]
  },
  {
   "cell_type": "code",
   "execution_count": 69,
   "id": "e36f698c",
   "metadata": {},
   "outputs": [],
   "source": [
    "rfr=RandomForestRegressor()"
   ]
  },
  {
   "cell_type": "code",
   "execution_count": 70,
   "id": "29cbf532",
   "metadata": {},
   "outputs": [
    {
     "data": {
      "text/plain": [
       "RandomForestRegressor()"
      ]
     },
     "execution_count": 70,
     "metadata": {},
     "output_type": "execute_result"
    }
   ],
   "source": [
    "rfr.fit(X_train,y_train.ravel())"
   ]
  },
  {
   "cell_type": "code",
   "execution_count": 71,
   "id": "1366f484",
   "metadata": {},
   "outputs": [],
   "source": [
    "result=rfr.predict(X_test)"
   ]
  },
  {
   "cell_type": "code",
   "execution_count": 82,
   "id": "29410e74",
   "metadata": {},
   "outputs": [
    {
     "name": "stdout",
     "output_type": "stream",
     "text": [
      "0.3219417440137792\n",
      "0.1352498659100417\n"
     ]
    }
   ],
   "source": [
    "print(mean_squared_error(result,y_test.ravel(),squared=False))\n",
    "print(mean_absolute_error(result,y_test.ravel()))"
   ]
  },
  {
   "cell_type": "code",
   "execution_count": 74,
   "id": "dff44a16",
   "metadata": {},
   "outputs": [
    {
     "data": {
      "text/plain": [
       "array([-0.31056335,  0.32698987, -0.136647  , ..., -0.52707382,\n",
       "       -0.330676  , -0.15442659])"
      ]
     },
     "execution_count": 74,
     "metadata": {},
     "output_type": "execute_result"
    }
   ],
   "source": [
    "result"
   ]
  },
  {
   "cell_type": "code",
   "execution_count": null,
   "id": "9ea23a6c",
   "metadata": {},
   "outputs": [],
   "source": []
  }
 ],
 "metadata": {
  "kernelspec": {
   "display_name": "Python 3",
   "language": "python",
   "name": "python3"
  },
  "language_info": {
   "codemirror_mode": {
    "name": "ipython",
    "version": 3
   },
   "file_extension": ".py",
   "mimetype": "text/x-python",
   "name": "python",
   "nbconvert_exporter": "python",
   "pygments_lexer": "ipython3",
   "version": "3.8.10"
  }
 },
 "nbformat": 4,
 "nbformat_minor": 5
}
